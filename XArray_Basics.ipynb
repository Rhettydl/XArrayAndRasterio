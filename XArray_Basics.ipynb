{
 "cells": [
  {
   "cell_type": "code",
   "execution_count": 1,
   "metadata": {
    "collapsed": true
   },
   "outputs": [],
   "source": [
    "import numpy as np"
   ]
  },
  {
   "cell_type": "code",
   "execution_count": 2,
   "metadata": {
    "collapsed": true
   },
   "outputs": [],
   "source": [
    "import xarray as xr"
   ]
  },
  {
   "cell_type": "code",
   "execution_count": 3,
   "metadata": {
    "collapsed": true
   },
   "outputs": [],
   "source": [
    "%matplotlib inline"
   ]
  },
  {
   "cell_type": "code",
   "execution_count": 4,
   "metadata": {
    "collapsed": true
   },
   "outputs": [],
   "source": [
    "from matplotlib.pyplot import *"
   ]
  },
  {
   "cell_type": "code",
   "execution_count": 5,
   "metadata": {
    "collapsed": true
   },
   "outputs": [],
   "source": [
    "from datetime import datetime"
   ]
  },
  {
   "cell_type": "code",
   "execution_count": 6,
   "metadata": {
    "collapsed": false
   },
   "outputs": [],
   "source": [
    "data = np.random.rand(3, 10)"
   ]
  },
  {
   "cell_type": "code",
   "execution_count": 8,
   "metadata": {
    "collapsed": false
   },
   "outputs": [
    {
     "data": {
      "text/plain": [
       "<matplotlib.image.AxesImage at 0x116a668d0>"
      ]
     },
     "execution_count": 8,
     "metadata": {},
     "output_type": "execute_result"
    },
    {
     "data": {
      "image/png": "[encoded data removed]",
      "text/plain": [
       "<matplotlib.figure.Figure at 0x1169ccb38>"
      ]
     },
     "metadata": {},
     "output_type": "display_data"
    }
   ],
   "source": [
    "imshow(data)"
   ]
  },
  {
   "cell_type": "code",
   "execution_count": 9,
   "metadata": {
    "collapsed": false
   },
   "outputs": [
    {
     "data": {
      "text/plain": [
       "(3, 10)"
      ]
     },
     "execution_count": 9,
     "metadata": {},
     "output_type": "execute_result"
    }
   ],
   "source": [
    "data.shape"
   ]
  },
  {
   "cell_type": "code",
   "execution_count": 40,
   "metadata": {
    "collapsed": false
   },
   "outputs": [
    {
     "data": {
      "text/plain": [
       "<xarray.DataArray (y: 3, x: 10)>\n",
       "array([[ 0.0429289 ,  0.33938654,  0.21674902,  0.22753095,  0.68395407,\n",
       "         0.39094687,  0.77467623,  0.51696466,  0.75943175,  0.38275408],\n",
       "       [ 0.02639399,  0.94732725,  0.49094081,  0.90909402,  0.65737675,\n",
       "         0.07184436,  0.66002162,  0.53055385,  0.78551893,  0.95129523],\n",
       "       [ 0.53927173,  0.85074663,  0.63138561,  0.31078671,  0.31914326,\n",
       "         0.73700543,  0.55976134,  0.60737377,  0.54293409,  0.75794238]])\n",
       "Coordinates:\n",
       "    date     datetime64[ns] 2013-03-16\n",
       "  * y        (y) <U1 'A' 'B' 'C'\n",
       "  * x        (x) int64 0 1 2 3 4 5 6 7 8 9"
      ]
     },
     "execution_count": 40,
     "metadata": {},
     "output_type": "execute_result"
    }
   ],
   "source": [
    "a = xr.DataArray(data, dims=['y', 'x'], coords={'y': ['A', 'B', 'C'], 'date': datetime(2013, 3, 16)})\n",
    "a"
   ]
  },
  {
   "cell_type": "code",
   "execution_count": 41,
   "metadata": {
    "collapsed": true
   },
   "outputs": [],
   "source": [
    "a['another_index'] = 42"
   ]
  },
  {
   "cell_type": "code",
   "execution_count": 42,
   "metadata": {
    "collapsed": false
   },
   "outputs": [
    {
     "data": {
      "text/plain": [
       "<xarray.DataArray (y: 3, x: 10)>\n",
       "array([[ 0.0429289 ,  0.33938654,  0.21674902,  0.22753095,  0.68395407,\n",
       "         0.39094687,  0.77467623,  0.51696466,  0.75943175,  0.38275408],\n",
       "       [ 0.02639399,  0.94732725,  0.49094081,  0.90909402,  0.65737675,\n",
       "         0.07184436,  0.66002162,  0.53055385,  0.78551893,  0.95129523],\n",
       "       [ 0.53927173,  0.85074663,  0.63138561,  0.31078671,  0.31914326,\n",
       "         0.73700543,  0.55976134,  0.60737377,  0.54293409,  0.75794238]])\n",
       "Coordinates:\n",
       "    date           datetime64[ns] 2013-03-16\n",
       "  * y              (y) <U1 'A' 'B' 'C'\n",
       "  * x              (x) int64 0 1 2 3 4 5 6 7 8 9\n",
       "    another_index  int64 42"
      ]
     },
     "execution_count": 42,
     "metadata": {},
     "output_type": "execute_result"
    }
   ],
   "source": [
    "a"
   ]
  },
  {
   "cell_type": "code",
   "execution_count": 39,
   "metadata": {
    "collapsed": false
   },
   "outputs": [
    {
     "data": {
      "text/plain": [
       "<xarray.DataArray (x: 10)>\n",
       "array([ 0.02639399,  0.94732725,  0.49094081,  0.90909402,  0.65737675,\n",
       "        0.07184436,  0.66002162,  0.53055385,  0.78551893,  0.95129523])\n",
       "Coordinates:\n",
       "    date     datetime64[ns] 2013-03-16\n",
       "    y        <U1 'B'\n",
       "  * x        (x) int64 0 1 2 3 4 5 6 7 8 9"
      ]
     },
     "execution_count": 39,
     "metadata": {},
     "output_type": "execute_result"
    }
   ],
   "source": [
    "a.isel(y=1)"
   ]
  },
  {
   "cell_type": "code",
   "execution_count": 23,
   "metadata": {
    "collapsed": false
   },
   "outputs": [
    {
     "data": {
      "text/plain": [
       "<xarray.DataArray (x: 3, y: 10)>\n",
       "array([[ 0.0429289 ,  0.33938654,  0.21674902,  0.22753095,  0.68395407,\n",
       "         0.39094687,  0.77467623,  0.51696466,  0.75943175,  0.38275408],\n",
       "       [ 0.02639399,  0.94732725,  0.49094081,  0.90909402,  0.65737675,\n",
       "         0.07184436,  0.66002162,  0.53055385,  0.78551893,  0.95129523],\n",
       "       [ 0.53927173,  0.85074663,  0.63138561,  0.31078671,  0.31914326,\n",
       "         0.73700543,  0.55976134,  0.60737377,  0.54293409,  0.75794238]])\n",
       "Coordinates:\n",
       "    time     datetime64[ns] 2010-01-03\n",
       "  * x        (x) int64 0 1 2\n",
       "  * y        (y) int64 0 1 2 3 4 5 6 7 8 9"
      ]
     },
     "execution_count": 23,
     "metadata": {},
     "output_type": "execute_result"
    }
   ],
   "source": [
    "a = xr.DataArray(data, dims=['x', 'y'], coords={'time':datetime(2010, 1, 3)})\n",
    "a"
   ]
  },
  {
   "cell_type": "code",
   "execution_count": 24,
   "metadata": {
    "collapsed": false
   },
   "outputs": [],
   "source": [
    "b = xr.DataArray(data, dims=['x', 'y'], coords={'time':datetime(2010, 1, 4)})\n",
    "c = xr.DataArray(data, dims=['x', 'y'], coords={'time':datetime(2010, 1, 5)})\n",
    "d = xr.DataArray(data, dims=['x', 'y'], coords={'time':datetime(2010, 1, 6)})\n"
   ]
  },
  {
   "cell_type": "code",
   "execution_count": 25,
   "metadata": {
    "collapsed": false
   },
   "outputs": [],
   "source": [
    "comb = xr.concat([a, b, c, d], 'time')"
   ]
  },
  {
   "cell_type": "code",
   "execution_count": 26,
   "metadata": {
    "collapsed": false
   },
   "outputs": [
    {
     "data": {
      "text/plain": [
       "<xarray.DataArray (time: 4, x: 3, y: 10)>\n",
       "array([[[ 0.0429289 ,  0.33938654,  0.21674902,  0.22753095,  0.68395407,\n",
       "          0.39094687,  0.77467623,  0.51696466,  0.75943175,  0.38275408],\n",
       "        [ 0.02639399,  0.94732725,  0.49094081,  0.90909402,  0.65737675,\n",
       "          0.07184436,  0.66002162,  0.53055385,  0.78551893,  0.95129523],\n",
       "        [ 0.53927173,  0.85074663,  0.63138561,  0.31078671,  0.31914326,\n",
       "          0.73700543,  0.55976134,  0.60737377,  0.54293409,  0.75794238]],\n",
       "\n",
       "       [[ 0.0429289 ,  0.33938654,  0.21674902,  0.22753095,  0.68395407,\n",
       "          0.39094687,  0.77467623,  0.51696466,  0.75943175,  0.38275408],\n",
       "        [ 0.02639399,  0.94732725,  0.49094081,  0.90909402,  0.65737675,\n",
       "          0.07184436,  0.66002162,  0.53055385,  0.78551893,  0.95129523],\n",
       "        [ 0.53927173,  0.85074663,  0.63138561,  0.31078671,  0.31914326,\n",
       "          0.73700543,  0.55976134,  0.60737377,  0.54293409,  0.75794238]],\n",
       "\n",
       "       [[ 0.0429289 ,  0.33938654,  0.21674902,  0.22753095,  0.68395407,\n",
       "          0.39094687,  0.77467623,  0.51696466,  0.75943175,  0.38275408],\n",
       "        [ 0.02639399,  0.94732725,  0.49094081,  0.90909402,  0.65737675,\n",
       "          0.07184436,  0.66002162,  0.53055385,  0.78551893,  0.95129523],\n",
       "        [ 0.53927173,  0.85074663,  0.63138561,  0.31078671,  0.31914326,\n",
       "          0.73700543,  0.55976134,  0.60737377,  0.54293409,  0.75794238]],\n",
       "\n",
       "       [[ 0.0429289 ,  0.33938654,  0.21674902,  0.22753095,  0.68395407,\n",
       "          0.39094687,  0.77467623,  0.51696466,  0.75943175,  0.38275408],\n",
       "        [ 0.02639399,  0.94732725,  0.49094081,  0.90909402,  0.65737675,\n",
       "          0.07184436,  0.66002162,  0.53055385,  0.78551893,  0.95129523],\n",
       "        [ 0.53927173,  0.85074663,  0.63138561,  0.31078671,  0.31914326,\n",
       "          0.73700543,  0.55976134,  0.60737377,  0.54293409,  0.75794238]]])\n",
       "Coordinates:\n",
       "  * x        (x) int64 0 1 2\n",
       "  * y        (y) int64 0 1 2 3 4 5 6 7 8 9\n",
       "  * time     (time) datetime64[ns] 2010-01-03 2010-01-04 2010-01-05 2010-01-06"
      ]
     },
     "execution_count": 26,
     "metadata": {},
     "output_type": "execute_result"
    }
   ],
   "source": [
    "comb"
   ]
  },
  {
   "cell_type": "code",
   "execution_count": 28,
   "metadata": {
    "collapsed": false
   },
   "outputs": [
    {
     "data": {
      "text/plain": [
       "<xarray.DataArray (x: 3, y: 10)>\n",
       "array([[ 0.0429289 ,  0.33938654,  0.21674902,  0.22753095,  0.68395407,\n",
       "         0.39094687,  0.77467623,  0.51696466,  0.75943175,  0.38275408],\n",
       "       [ 0.02639399,  0.94732725,  0.49094081,  0.90909402,  0.65737675,\n",
       "         0.07184436,  0.66002162,  0.53055385,  0.78551893,  0.95129523],\n",
       "       [ 0.53927173,  0.85074663,  0.63138561,  0.31078671,  0.31914326,\n",
       "         0.73700543,  0.55976134,  0.60737377,  0.54293409,  0.75794238]])\n",
       "Coordinates:\n",
       "  * x        (x) int64 0 1 2\n",
       "  * y        (y) int64 0 1 2 3 4 5 6 7 8 9"
      ]
     },
     "execution_count": 28,
     "metadata": {},
     "output_type": "execute_result"
    }
   ],
   "source": [
    "comb.mean(dim='time')"
   ]
  },
  {
   "cell_type": "code",
   "execution_count": 35,
   "metadata": {
    "collapsed": false
   },
   "outputs": [
    {
     "data": {
      "text/plain": [
       "<xarray.DataArray (month: 1, x: 3, y: 10)>\n",
       "array([[[ 0.0429289 ,  0.33938654,  0.21674902,  0.22753095,  0.68395407,\n",
       "          0.39094687,  0.77467623,  0.51696466,  0.75943175,  0.38275408],\n",
       "        [ 0.02639399,  0.94732725,  0.49094081,  0.90909402,  0.65737675,\n",
       "          0.07184436,  0.66002162,  0.53055385,  0.78551893,  0.95129523],\n",
       "        [ 0.53927173,  0.85074663,  0.63138561,  0.31078671,  0.31914326,\n",
       "          0.73700543,  0.55976134,  0.60737377,  0.54293409,  0.75794238]]])\n",
       "Coordinates:\n",
       "  * x        (x) int64 0 1 2\n",
       "  * y        (y) int64 0 1 2 3 4 5 6 7 8 9\n",
       "  * month    (month) int64 1"
      ]
     },
     "execution_count": 35,
     "metadata": {},
     "output_type": "execute_result"
    }
   ],
   "source": [
    "comb.groupby('time.month').mean(dim='time')"
   ]
  },
  {
   "cell_type": "code",
   "execution_count": 33,
   "metadata": {
    "collapsed": false
   },
   "outputs": [
    {
     "data": {
      "text/plain": [
       "{1: [0, 1, 2, 3]}"
      ]
     },
     "execution_count": 33,
     "metadata": {},
     "output_type": "execute_result"
    }
   ],
   "source": [
    "g.groups"
   ]
  },
  {
   "cell_type": "code",
   "execution_count": null,
   "metadata": {
    "collapsed": false
   },
   "outputs": [],
   "source": [
    "ds = comb.to_dataset(name='test')"
   ]
  },
  {
   "cell_type": "code",
   "execution_count": null,
   "metadata": {
    "collapsed": true
   },
   "outputs": [],
   "source": [
    "ds.to_netcdf('test.nc')"
   ]
  },
  {
   "cell_type": "code",
   "execution_count": null,
   "metadata": {
    "collapsed": true
   },
   "outputs": [],
   "source": [
    "!mkdir multifile"
   ]
  },
  {
   "cell_type": "code",
   "execution_count": null,
   "metadata": {
    "collapsed": true
   },
   "outputs": [],
   "source": [
    "!cp test.nc multifile/test2.nc"
   ]
  },
  {
   "cell_type": "code",
   "execution_count": null,
   "metadata": {
    "collapsed": false
   },
   "outputs": [],
   "source": [
    "ds = xr.open_mfdataset('multifile/*.nc', concat_dim='time')"
   ]
  },
  {
   "cell_type": "code",
   "execution_count": null,
   "metadata": {
    "collapsed": false
   },
   "outputs": [],
   "source": [
    "ds['time'].values"
   ]
  },
  {
   "cell_type": "code",
   "execution_count": null,
   "metadata": {
    "collapsed": false
   },
   "outputs": [],
   "source": [
    "ds.sel(time='2010-01-03')"
   ]
  },
  {
   "cell_type": "code",
   "execution_count": null,
   "metadata": {
    "collapsed": false
   },
   "outputs": [],
   "source": [
    "da = ds['test']"
   ]
  },
  {
   "cell_type": "code",
   "execution_count": null,
   "metadata": {
    "collapsed": false
   },
   "outputs": [],
   "source": [
    "da.sel(time='2010-01-03').mean(dim='time').plot()"
   ]
  },
  {
   "cell_type": "code",
   "execution_count": null,
   "metadata": {
    "collapsed": true
   },
   "outputs": [],
   "source": []
  }
 ],
 "metadata": {
  "kernelspec": {
   "display_name": "Python 3",
   "language": "python",
   "name": "python3"
  },
  "language_info": {
   "codemirror_mode": {
    "name": "ipython",
    "version": 3
   },
   "file_extension": ".py",
   "mimetype": "text/x-python",
   "name": "python",
   "nbconvert_exporter": "python",
   "pygments_lexer": "ipython3",
   "version": "3.5.1"
  }
 },
 "nbformat": 4,
 "nbformat_minor": 0
}
