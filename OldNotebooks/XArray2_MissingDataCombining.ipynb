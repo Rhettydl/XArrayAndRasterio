{
 "cells": [
  {
   "cell_type": "code",
   "execution_count": 1,
   "metadata": {
    "collapsed": true
   },
   "outputs": [],
   "source": [
    "import numpy as np"
   ]
  },
  {
   "cell_type": "code",
   "execution_count": 2,
   "metadata": {
    "collapsed": true
   },
   "outputs": [],
   "source": [
    "import xarray as xr"
   ]
  },
  {
   "cell_type": "code",
   "execution_count": 3,
   "metadata": {
    "collapsed": true
   },
   "outputs": [],
   "source": [
    "%matplotlib inline"
   ]
  },
  {
   "cell_type": "code",
   "execution_count": 4,
   "metadata": {
    "collapsed": true
   },
   "outputs": [],
   "source": [
    "from matplotlib.pyplot import *"
   ]
  },
  {
   "cell_type": "code",
   "execution_count": 5,
   "metadata": {
    "collapsed": true
   },
   "outputs": [],
   "source": [
    "from datetime import datetime"
   ]
  },
  {
   "cell_type": "code",
   "execution_count": 6,
   "metadata": {
    "collapsed": false
   },
   "outputs": [],
   "source": [
    "data = np.random.rand(3, 10)"
   ]
  },
  {
   "cell_type": "code",
   "execution_count": 7,
   "metadata": {
    "collapsed": false
   },
   "outputs": [
    {
     "data": {
      "text/plain": [
       "(3, 10)"
      ]
     },
     "execution_count": 7,
     "metadata": {},
     "output_type": "execute_result"
    }
   ],
   "source": [
    "data.shape"
   ]
  },
  {
   "cell_type": "code",
   "execution_count": 22,
   "metadata": {
    "collapsed": false
   },
   "outputs": [
    {
     "data": {
      "text/plain": [
       "array([[        nan,  0.55589243,  0.11753801,  0.08013517,  0.30560374,\n",
       "                nan,  0.20962094,  0.23187731,  0.06316331,  0.57970108],\n",
       "       [ 0.38085612,  0.16466536,         nan,  0.77754006,  0.46032132,\n",
       "         0.69870195,  0.75686837,  0.45285803,  0.22131184,  0.70564802],\n",
       "       [ 0.48013034,  0.56288659,  0.57884486,  0.76661368,  0.59727641,\n",
       "                nan,  0.7725577 ,         nan,  0.50381469,         nan]])"
      ]
     },
     "execution_count": 22,
     "metadata": {},
     "output_type": "execute_result"
    }
   ],
   "source": [
    "data[data > 0.8] = np.nan\n",
    "data"
   ]
  },
  {
   "cell_type": "code",
   "execution_count": 23,
   "metadata": {
    "collapsed": false
   },
   "outputs": [
    {
     "data": {
      "text/plain": [
       "<xarray.DataArray (x: 3, y: 10)>\n",
       "array([[        nan,  0.55589243,  0.11753801,  0.08013517,  0.30560374,\n",
       "                nan,  0.20962094,  0.23187731,  0.06316331,  0.57970108],\n",
       "       [ 0.38085612,  0.16466536,         nan,  0.77754006,  0.46032132,\n",
       "         0.69870195,  0.75686837,  0.45285803,  0.22131184,  0.70564802],\n",
       "       [ 0.48013034,  0.56288659,  0.57884486,  0.76661368,  0.59727641,\n",
       "                nan,  0.7725577 ,         nan,  0.50381469,         nan]])\n",
       "Coordinates:\n",
       "    time     datetime64[ns] 2010-01-03\n",
       "  * x        (x) int64 10 20 30\n",
       "  * y        (y) int64 0 1 2 3 4 5 6 7 8 9"
      ]
     },
     "execution_count": 23,
     "metadata": {},
     "output_type": "execute_result"
    }
   ],
   "source": [
    "a = xr.DataArray(data, dims=['x', 'y'], coords={'x': [10, 20, 30], 'time':datetime(2010, 1, 3)})\n",
    "a"
   ]
  },
  {
   "cell_type": "code",
   "execution_count": 24,
   "metadata": {
    "collapsed": false
   },
   "outputs": [],
   "source": [
    "datab = data.copy()\n",
    "datab[datab < .5] = np.nan"
   ]
  },
  {
   "cell_type": "code",
   "execution_count": 25,
   "metadata": {
    "collapsed": false
   },
   "outputs": [
    {
     "data": {
      "text/plain": [
       "array([[        nan,  0.55589243,         nan,         nan,         nan,\n",
       "                nan,         nan,         nan,         nan,  0.57970108],\n",
       "       [        nan,         nan,         nan,  0.77754006,         nan,\n",
       "         0.69870195,  0.75686837,         nan,         nan,  0.70564802],\n",
       "       [        nan,  0.56288659,  0.57884486,  0.76661368,  0.59727641,\n",
       "                nan,  0.7725577 ,         nan,  0.50381469,         nan]])"
      ]
     },
     "execution_count": 25,
     "metadata": {},
     "output_type": "execute_result"
    }
   ],
   "source": [
    "datab"
   ]
  },
  {
   "cell_type": "code",
   "execution_count": 26,
   "metadata": {
    "collapsed": true
   },
   "outputs": [],
   "source": [
    "b = xr.DataArray(datab, dims=['x', 'y'], coords={'x': [10, 20, 30], 'time':datetime(2010, 1, 4)})"
   ]
  },
  {
   "cell_type": "code",
   "execution_count": 27,
   "metadata": {
    "collapsed": false
   },
   "outputs": [],
   "source": [
    "comb = xr.concat([a, b], 'time')"
   ]
  },
  {
   "cell_type": "code",
   "execution_count": 29,
   "metadata": {
    "collapsed": false
   },
   "outputs": [
    {
     "data": {
      "text/plain": [
       "<xarray.DataArray (x: 3, y: 10)>\n",
       "array([[0, 2, 1, 1, 1, 0, 1, 1, 1, 2],\n",
       "       [1, 1, 0, 2, 1, 2, 2, 1, 1, 2],\n",
       "       [1, 2, 2, 2, 2, 0, 2, 0, 2, 0]])\n",
       "Coordinates:\n",
       "  * x        (x) int64 10 20 30\n",
       "  * y        (y) int64 0 1 2 3 4 5 6 7 8 9"
      ]
     },
     "execution_count": 29,
     "metadata": {},
     "output_type": "execute_result"
    }
   ],
   "source": [
    "comb.count(dim='time')"
   ]
  },
  {
   "cell_type": "code",
   "execution_count": 31,
   "metadata": {
    "collapsed": false
   },
   "outputs": [
    {
     "data": {
      "text/plain": [
       "<xarray.DataArray (x: 3, y: 10)>\n",
       "array([[        nan,  0.55589243,  0.11753801,  0.08013517,  0.30560374,\n",
       "                nan,  0.20962094,  0.23187731,  0.06316331,  0.57970108],\n",
       "       [ 0.38085612,  0.16466536,         nan,  0.77754006,  0.46032132,\n",
       "         0.69870195,  0.75686837,  0.45285803,  0.22131184,  0.70564802],\n",
       "       [ 0.48013034,  0.56288659,  0.57884486,  0.76661368,  0.59727641,\n",
       "                nan,  0.7725577 ,         nan,  0.50381469,         nan]])\n",
       "Coordinates:\n",
       "  * x        (x) int64 10 20 30\n",
       "  * y        (y) int64 0 1 2 3 4 5 6 7 8 9"
      ]
     },
     "execution_count": 31,
     "metadata": {},
     "output_type": "execute_result"
    }
   ],
   "source": [
    "comb.max(dim='time')"
   ]
  },
  {
   "cell_type": "code",
   "execution_count": 33,
   "metadata": {
    "collapsed": false
   },
   "outputs": [
    {
     "data": {
      "text/plain": [
       "<xarray.DataArray (day: 4, x: 3, y: 10)>\n",
       "array([[[ 0.6058128 ,  0.41439131,  0.57819417,  0.11189831,  0.07093284,\n",
       "          0.49545013,  0.00960583,  0.83443594,  0.19037937,  0.15308206],\n",
       "        [ 0.26699744,  0.59888543,  0.15972862,  0.19820866,  0.45922169,\n",
       "          0.21900277,  0.5773666 ,  0.73640294,  0.07778405,  0.77081377],\n",
       "        [ 0.31449483,  0.22698163,  0.94639217,  0.41111678,  0.60665371,\n",
       "          0.75854892,  0.62022036,  0.67855218,  0.24051055,  0.24616162]],\n",
       "\n",
       "       [[ 0.6058128 ,  0.41439131,  0.57819417,  0.11189831,  0.07093284,\n",
       "          0.49545013,  0.00960583,  0.83443594,  0.19037937,  0.15308206],\n",
       "        [ 0.26699744,  0.59888543,  0.15972862,  0.19820866,  0.45922169,\n",
       "          0.21900277,  0.5773666 ,  0.73640294,  0.07778405,  0.77081377],\n",
       "        [ 0.31449483,  0.22698163,  0.94639217,  0.41111678,  0.60665371,\n",
       "          0.75854892,  0.62022036,  0.67855218,  0.24051055,  0.24616162]],\n",
       "\n",
       "       [[ 0.6058128 ,  0.41439131,  0.57819417,  0.11189831,  0.07093284,\n",
       "          0.49545013,  0.00960583,  0.83443594,  0.19037937,  0.15308206],\n",
       "        [ 0.26699744,  0.59888543,  0.15972862,  0.19820866,  0.45922169,\n",
       "          0.21900277,  0.5773666 ,  0.73640294,  0.07778405,  0.77081377],\n",
       "        [ 0.31449483,  0.22698163,  0.94639217,  0.41111678,  0.60665371,\n",
       "          0.75854892,  0.62022036,  0.67855218,  0.24051055,  0.24616162]],\n",
       "\n",
       "       [[ 0.6058128 ,  0.41439131,  0.57819417,  0.11189831,  0.07093284,\n",
       "          0.49545013,  0.00960583,  0.83443594,  0.19037937,  0.15308206],\n",
       "        [ 0.26699744,  0.59888543,  0.15972862,  0.19820866,  0.45922169,\n",
       "          0.21900277,  0.5773666 ,  0.73640294,  0.07778405,  0.77081377],\n",
       "        [ 0.31449483,  0.22698163,  0.94639217,  0.41111678,  0.60665371,\n",
       "          0.75854892,  0.62022036,  0.67855218,  0.24051055,  0.24616162]]])\n",
       "Coordinates:\n",
       "  * x        (x) int64 10 20 30\n",
       "  * y        (y) int64 0 1 2 3 4 5 6 7 8 9\n",
       "  * day      (day) int64 3 4 5 6"
      ]
     },
     "execution_count": 33,
     "metadata": {},
     "output_type": "execute_result"
    }
   ],
   "source": [
    "comb.groupby('time.day').mean(dim='time')"
   ]
  },
  {
   "cell_type": "code",
   "execution_count": null,
   "metadata": {
    "collapsed": false
   },
   "outputs": [],
   "source": [
    "ds = comb.to_dataset(name='test')"
   ]
  },
  {
   "cell_type": "code",
   "execution_count": null,
   "metadata": {
    "collapsed": true
   },
   "outputs": [],
   "source": [
    "ds.to_netcdf('test.nc')"
   ]
  },
  {
   "cell_type": "code",
   "execution_count": null,
   "metadata": {
    "collapsed": true
   },
   "outputs": [],
   "source": [
    "!mkdir multifile"
   ]
  },
  {
   "cell_type": "code",
   "execution_count": null,
   "metadata": {
    "collapsed": true
   },
   "outputs": [],
   "source": [
    "!cp test.nc multifile/test2.nc"
   ]
  },
  {
   "cell_type": "code",
   "execution_count": null,
   "metadata": {
    "collapsed": false
   },
   "outputs": [],
   "source": [
    "ds = xr.open_mfdataset('multifile/*.nc', concat_dim='time')"
   ]
  },
  {
   "cell_type": "code",
   "execution_count": null,
   "metadata": {
    "collapsed": false
   },
   "outputs": [],
   "source": [
    "ds['time'].values"
   ]
  },
  {
   "cell_type": "code",
   "execution_count": null,
   "metadata": {
    "collapsed": false
   },
   "outputs": [],
   "source": [
    "ds.sel(time='2010-01-03')"
   ]
  },
  {
   "cell_type": "code",
   "execution_count": null,
   "metadata": {
    "collapsed": false
   },
   "outputs": [],
   "source": [
    "da = ds['test']"
   ]
  },
  {
   "cell_type": "code",
   "execution_count": null,
   "metadata": {
    "collapsed": false
   },
   "outputs": [],
   "source": [
    "da.sel(time='2010-01-03').mean(dim='time').plot()"
   ]
  },
  {
   "cell_type": "code",
   "execution_count": null,
   "metadata": {
    "collapsed": true
   },
   "outputs": [],
   "source": []
  }
 ],
 "metadata": {
  "kernelspec": {
   "display_name": "Python 3",
   "language": "python",
   "name": "python3"
  },
  "language_info": {
   "codemirror_mode": {
    "name": "ipython",
    "version": 3
   },
   "file_extension": ".py",
   "mimetype": "text/x-python",
   "name": "python",
   "nbconvert_exporter": "python",
   "pygments_lexer": "ipython3",
   "version": "3.5.1"
  }
 },
 "nbformat": 4,
 "nbformat_minor": 0
}
